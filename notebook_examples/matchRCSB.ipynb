{
 "cells": [
  {
   "cell_type": "code",
   "execution_count": 1,
   "id": "b8f14eaf-54b3-45bc-adc0-5095578d2882",
   "metadata": {},
   "outputs": [],
   "source": [
    "from papyrus_scripts import matchRCSB"
   ]
  },
  {
   "cell_type": "markdown",
   "id": "51f947ce-912a-4006-9d95-9691035bbb07",
   "metadata": {},
   "source": [
    "The goal of this notebook is to have an overview of the required input parameters to scrape the RCSB database and match those to ligands in the papyrus dataset.\n",
    "\n",
    "The output is a seperate tsv file with the matched entries.\n",
    "\n",
    "It is also possible to import the modules and run this code snippet in your own workflow."
   ]
  },
  {
   "cell_type": "code",
   "execution_count": 2,
   "id": "e19720b0-b38f-4b20-8383-aa3115278cd4",
   "metadata": {},
   "outputs": [],
   "source": [
    "# required\n",
    "papyrus_inputfile  = '/home/willem/data/papyrus/'  # location of papyrus dataset\n",
    "\n",
    "# optional\n",
    "workdir            = '/home/willem/tmp'            # Working directory\n",
    "json_infile        = None                          # Specify a RCSB_data .json file, avoids requering RCSB\n",
    "json_outfile       = 'RCSB_data.json'              # Save the RCSB_data file under a different filename\n",
    "papyrus_outputfile = 'Papyrus-RCSB_matched.tsv.gz' # provide a different filename for the RCSB match Papyrus entries\n",
    "overwrite          = True                          # Set false to avoid overwriting the workdir\n",
    "\n",
    "# put the user input in data\n",
    "data = {\n",
    "         'wd'        : workdir,\n",
    "         'js_in'     : json_infile,\n",
    "         'js_out'    : json_outfile,\n",
    "         'p_in'      : papyrus_inputfile,\n",
    "         'p_out'     : papyrus_outputfile,\n",
    "         'overwrite' : overwrite\n",
    "}"
   ]
  },
  {
   "cell_type": "code",
   "execution_count": null,
   "id": "bc52f31b-dadb-46f4-ab35-4e95ea0e549a",
   "metadata": {},
   "outputs": [
    {
     "name": "stdout",
     "output_type": "stream",
     "text": [
      "reading data from Papyrus sdf\n",
      "[                                        ] | 0% Completed | 41.0s"
     ]
    }
   ],
   "source": [
    "matchRCSB.Init(data)"
   ]
  }
 ],
 "metadata": {
  "kernelspec": {
   "display_name": "Python 3 (ipykernel)",
   "language": "python",
   "name": "python3"
  },
  "language_info": {
   "codemirror_mode": {
    "name": "ipython",
    "version": 3
   },
   "file_extension": ".py",
   "mimetype": "text/x-python",
   "name": "python",
   "nbconvert_exporter": "python",
   "pygments_lexer": "ipython3",
   "version": "3.9.5"
  }
 },
 "nbformat": 4,
 "nbformat_minor": 5
}
