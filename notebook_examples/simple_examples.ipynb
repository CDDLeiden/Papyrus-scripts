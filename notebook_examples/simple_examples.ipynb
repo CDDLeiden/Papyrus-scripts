{
 "cells": [
  {
   "cell_type": "markdown",
   "metadata": {},
   "source": [
    "# Simple examples: Using Papyrus scripts"
   ]
  },
  {
   "cell_type": "markdown",
   "metadata": {},
   "source": [
    "Herein it is assumed that the Papyrus <a href=\"https://doi.org/10.4121/16896406\">bioactivity data</a> hosted on 4TU was dowloaded and placed in a folder called ***PAPYRUS_DATA_FOLDER***."
   ]
  },
  {
   "cell_type": "code",
   "execution_count": 1,
   "metadata": {
    "tags": []
   },
   "outputs": [
    {
     "data": {
      "text/html": [
       "<style>\n",
       "table {align:left;display:block}\n",
       "</style>\n"
      ],
      "text/plain": [
       "<IPython.core.display.HTML object>"
      ]
     },
     "metadata": {},
     "output_type": "display_data"
    }
   ],
   "source": [
    "%%html\n",
    "<style>\n",
    "table {align:left;display:block}\n",
    "</style>"
   ]
  },
  {
   "cell_type": "markdown",
   "metadata": {
    "tags": []
   },
   "source": [
    "## Reading Papyrus files"
   ]
  },
  {
   "cell_type": "markdown",
   "metadata": {},
   "source": [
    "Functions can be found under *papyrus_scripts.reader* to facilitate the dataset being read from disk."
   ]
  },
  {
   "cell_type": "code",
   "execution_count": 2,
   "metadata": {},
   "outputs": [],
   "source": [
    "from papyrus_scripts.reader import read_papyrus, read_protein_set"
   ]
  },
  {
   "cell_type": "markdown",
   "metadata": {
    "tags": []
   },
   "source": [
    "### Bioactivity data"
   ]
  },
  {
   "cell_type": "markdown",
   "metadata": {},
   "source": [
    "Let's first read the bioactivity data.\n",
    "Make sure **not to decompress** the data, as it is **more than 45 GB!**"
   ]
  },
  {
   "cell_type": "markdown",
   "metadata": {},
   "source": [
    "We will use the *read_papyrus* function to read the bioactivity data as a pandas dataframe. <br/>\n",
    "Let us first demonstrate the use of the function on systems with limited RAM (less than 50GB)."
   ]
  },
  {
   "cell_type": "markdown",
   "metadata": {},
   "source": [
    "We first ensure to read the standardized data without stereochemistry in chunks of ten thousand lines.\n",
    "Additionally we ensure the *source_path* is that of the ***PAPYRUS_DATA_FOLDER***."
   ]
  },
  {
   "cell_type": "code",
   "execution_count": 3,
   "metadata": {},
   "outputs": [],
   "source": [
    "PAPYRUS_DATA_FOLDER = 'C:/Users/Olivier/Downloads/Papyrus/Fixed/gmail'"
   ]
  },
  {
   "cell_type": "code",
   "execution_count": 4,
   "metadata": {},
   "outputs": [],
   "source": [
    "sample_data = read_papyrus(is3d=False, chunksize=10000, source_path=PAPYRUS_DATA_FOLDER)"
   ]
  },
  {
   "cell_type": "markdown",
   "metadata": {},
   "source": [
    "The return value is an iterator of Pandas dataframes of maximum ten thousand rows each.<br/>\n",
    "Let's extract the first chunk as a pandas dataframe and have a look at few rows."
   ]
  },
  {
   "cell_type": "code",
   "execution_count": 5,
   "metadata": {},
   "outputs": [
    {
     "data": {
      "text/html": [
       "<div>\n",
       "<style scoped>\n",
       "    .dataframe tbody tr th:only-of-type {\n",
       "        vertical-align: middle;\n",
       "    }\n",
       "\n",
       "    .dataframe tbody tr th {\n",
       "        vertical-align: top;\n",
       "    }\n",
       "\n",
       "    .dataframe thead th {\n",
       "        text-align: right;\n",
       "    }\n",
       "</style>\n",
       "<table border=\"1\" class=\"dataframe\">\n",
       "  <thead>\n",
       "    <tr style=\"text-align: right;\">\n",
       "      <th></th>\n",
       "      <th>Activity_ID</th>\n",
       "      <th>Quality</th>\n",
       "      <th>source</th>\n",
       "      <th>CID</th>\n",
       "      <th>SMILES</th>\n",
       "      <th>connectivity</th>\n",
       "      <th>InChIKey</th>\n",
       "      <th>InChI</th>\n",
       "      <th>InChI_AuxInfo</th>\n",
       "      <th>target_id</th>\n",
       "      <th>...</th>\n",
       "      <th>type_other</th>\n",
       "      <th>Activity_class</th>\n",
       "      <th>relation</th>\n",
       "      <th>pchembl_value</th>\n",
       "      <th>pchembl_value_Mean</th>\n",
       "      <th>pchembl_value_StdDev</th>\n",
       "      <th>pchembl_value_SEM</th>\n",
       "      <th>pchembl_value_N</th>\n",
       "      <th>pchembl_value_Median</th>\n",
       "      <th>pchembl_value_MAD</th>\n",
       "    </tr>\n",
       "  </thead>\n",
       "  <tbody>\n",
       "    <tr>\n",
       "      <th>0</th>\n",
       "      <td>AAAAEENPAALFRN_on_P49654_WT</td>\n",
       "      <td>High</td>\n",
       "      <td>ChEMBL29</td>\n",
       "      <td>CHEMBL492934</td>\n",
       "      <td>COc1cc(C(C)C)c(Oc2cnc(NCCS(C)(=O)=O)nc2N)cc1I</td>\n",
       "      <td>AAAAEENPAALFRN</td>\n",
       "      <td>AAAAEENPAALFRN-UHFFFAOYSA-N</td>\n",
       "      <td>InChI=1S/C17H23IN4O4S/c1-10(2)11-7-14(25-3)12(...</td>\n",
       "      <td>\"AuxInfo=1/1/N:7,8,1,19,16,17,4,25,12,6,5,26,9...</td>\n",
       "      <td>P49654_WT</td>\n",
       "      <td>...</td>\n",
       "      <td>0</td>\n",
       "      <td>NaN</td>\n",
       "      <td>=</td>\n",
       "      <td>7.800</td>\n",
       "      <td>7.800</td>\n",
       "      <td>0.000</td>\n",
       "      <td>0.000</td>\n",
       "      <td>1.0</td>\n",
       "      <td>7.800</td>\n",
       "      <td>0.000</td>\n",
       "    </tr>\n",
       "    <tr>\n",
       "      <th>1</th>\n",
       "      <td>AAAAEENPAALFRN_on_P56373_WT</td>\n",
       "      <td>Low</td>\n",
       "      <td>ChEMBL29</td>\n",
       "      <td>CHEMBL492934</td>\n",
       "      <td>COc1cc(C(C)C)c(Oc2cnc(NCCS(C)(=O)=O)nc2N)cc1I</td>\n",
       "      <td>AAAAEENPAALFRN</td>\n",
       "      <td>AAAAEENPAALFRN-UHFFFAOYSA-N</td>\n",
       "      <td>InChI=1S/C17H23IN4O4S/c1-10(2)11-7-14(25-3)12(...</td>\n",
       "      <td>\"AuxInfo=1/1/N:7,8,1,19,16,17,4,25,12,6,5,26,9...</td>\n",
       "      <td>P56373_WT</td>\n",
       "      <td>...</td>\n",
       "      <td>0</td>\n",
       "      <td>NaN</td>\n",
       "      <td>=</td>\n",
       "      <td>7.400</td>\n",
       "      <td>7.400</td>\n",
       "      <td>0.000</td>\n",
       "      <td>0.000</td>\n",
       "      <td>1.0</td>\n",
       "      <td>7.400</td>\n",
       "      <td>0.000</td>\n",
       "    </tr>\n",
       "    <tr>\n",
       "      <th>2</th>\n",
       "      <td>AAAAEENPAALFRN_on_Q9UBL9_WT</td>\n",
       "      <td>Low</td>\n",
       "      <td>ChEMBL29</td>\n",
       "      <td>CHEMBL492934</td>\n",
       "      <td>COc1cc(C(C)C)c(Oc2cnc(NCCS(C)(=O)=O)nc2N)cc1I</td>\n",
       "      <td>AAAAEENPAALFRN</td>\n",
       "      <td>AAAAEENPAALFRN-UHFFFAOYSA-N</td>\n",
       "      <td>InChI=1S/C17H23IN4O4S/c1-10(2)11-7-14(25-3)12(...</td>\n",
       "      <td>\"AuxInfo=1/1/N:7,8,1,19,16,17,4,25,12,6,5,26,9...</td>\n",
       "      <td>Q9UBL9_WT</td>\n",
       "      <td>...</td>\n",
       "      <td>0</td>\n",
       "      <td>NaN</td>\n",
       "      <td>=</td>\n",
       "      <td>7.400</td>\n",
       "      <td>7.400</td>\n",
       "      <td>0.000</td>\n",
       "      <td>0.000</td>\n",
       "      <td>1.0</td>\n",
       "      <td>7.400</td>\n",
       "      <td>0.000</td>\n",
       "    </tr>\n",
       "    <tr>\n",
       "      <th>3</th>\n",
       "      <td>AAAAKTROWFNLEP_on_P49137_WT</td>\n",
       "      <td>Low</td>\n",
       "      <td>ChEMBL29</td>\n",
       "      <td>CHEMBL246893</td>\n",
       "      <td>CC1CNC(=O)c2c1c1c(ccc(C(=O)N(C)C)c1)[nH]2</td>\n",
       "      <td>AAAAKTROWFNLEP</td>\n",
       "      <td>AAAAKTROWFNLEP-UHFFFAOYSA-N</td>\n",
       "      <td>InChI=1S/C15H17N3O2/c1-8-7-16-14(19)13-12(8)10...</td>\n",
       "      <td>\"AuxInfo=1/1/N:1,17,18,12,11,19,3,2,13,9,10,8,...</td>\n",
       "      <td>P49137_WT</td>\n",
       "      <td>...</td>\n",
       "      <td>0</td>\n",
       "      <td>NaN</td>\n",
       "      <td>&lt;</td>\n",
       "      <td>4.699</td>\n",
       "      <td>4.699</td>\n",
       "      <td>0.000</td>\n",
       "      <td>0.000</td>\n",
       "      <td>1.0</td>\n",
       "      <td>4.699</td>\n",
       "      <td>0.000</td>\n",
       "    </tr>\n",
       "    <tr>\n",
       "      <th>4</th>\n",
       "      <td>AAAAZQPHATYWOK_on_P00533_WT</td>\n",
       "      <td>High</td>\n",
       "      <td>Sharma2016;Sharma2016;ChEMBL29</td>\n",
       "      <td>4277046;4277046;CHEMBL175513</td>\n",
       "      <td>CCOc1c(NC(=O)C=CCN(C)C)cc2c(Nc3cc(Cl)c(OCc4nc5...</td>\n",
       "      <td>AAAAZQPHATYWOK</td>\n",
       "      <td>AAAAZQPHATYWOK-UHFFFAOYSA-N</td>\n",
       "      <td>InChI=1S/C32H29ClN6O3S/c1-4-41-28-16-25-22(15-...</td>\n",
       "      <td>\"AuxInfo=1/1/N:1,13,14,2,32,31,10,33,30,9,36,3...</td>\n",
       "      <td>P00533_WT</td>\n",
       "      <td>...</td>\n",
       "      <td>0</td>\n",
       "      <td>NaN</td>\n",
       "      <td>=</td>\n",
       "      <td>6.726;  6.063;  6.730</td>\n",
       "      <td>6.506</td>\n",
       "      <td>0.313</td>\n",
       "      <td>0.222</td>\n",
       "      <td>3.0</td>\n",
       "      <td>6.726</td>\n",
       "      <td>0.004</td>\n",
       "    </tr>\n",
       "  </tbody>\n",
       "</table>\n",
       "<p>5 rows × 29 columns</p>\n",
       "</div>"
      ],
      "text/plain": [
       "                   Activity_ID Quality                          source  \\\n",
       "0  AAAAEENPAALFRN_on_P49654_WT    High                        ChEMBL29   \n",
       "1  AAAAEENPAALFRN_on_P56373_WT     Low                        ChEMBL29   \n",
       "2  AAAAEENPAALFRN_on_Q9UBL9_WT     Low                        ChEMBL29   \n",
       "3  AAAAKTROWFNLEP_on_P49137_WT     Low                        ChEMBL29   \n",
       "4  AAAAZQPHATYWOK_on_P00533_WT    High  Sharma2016;Sharma2016;ChEMBL29   \n",
       "\n",
       "                            CID  \\\n",
       "0                  CHEMBL492934   \n",
       "1                  CHEMBL492934   \n",
       "2                  CHEMBL492934   \n",
       "3                  CHEMBL246893   \n",
       "4  4277046;4277046;CHEMBL175513   \n",
       "\n",
       "                                              SMILES    connectivity  \\\n",
       "0      COc1cc(C(C)C)c(Oc2cnc(NCCS(C)(=O)=O)nc2N)cc1I  AAAAEENPAALFRN   \n",
       "1      COc1cc(C(C)C)c(Oc2cnc(NCCS(C)(=O)=O)nc2N)cc1I  AAAAEENPAALFRN   \n",
       "2      COc1cc(C(C)C)c(Oc2cnc(NCCS(C)(=O)=O)nc2N)cc1I  AAAAEENPAALFRN   \n",
       "3          CC1CNC(=O)c2c1c1c(ccc(C(=O)N(C)C)c1)[nH]2  AAAAKTROWFNLEP   \n",
       "4  CCOc1c(NC(=O)C=CCN(C)C)cc2c(Nc3cc(Cl)c(OCc4nc5...  AAAAZQPHATYWOK   \n",
       "\n",
       "                      InChIKey  \\\n",
       "0  AAAAEENPAALFRN-UHFFFAOYSA-N   \n",
       "1  AAAAEENPAALFRN-UHFFFAOYSA-N   \n",
       "2  AAAAEENPAALFRN-UHFFFAOYSA-N   \n",
       "3  AAAAKTROWFNLEP-UHFFFAOYSA-N   \n",
       "4  AAAAZQPHATYWOK-UHFFFAOYSA-N   \n",
       "\n",
       "                                               InChI  \\\n",
       "0  InChI=1S/C17H23IN4O4S/c1-10(2)11-7-14(25-3)12(...   \n",
       "1  InChI=1S/C17H23IN4O4S/c1-10(2)11-7-14(25-3)12(...   \n",
       "2  InChI=1S/C17H23IN4O4S/c1-10(2)11-7-14(25-3)12(...   \n",
       "3  InChI=1S/C15H17N3O2/c1-8-7-16-14(19)13-12(8)10...   \n",
       "4  InChI=1S/C32H29ClN6O3S/c1-4-41-28-16-25-22(15-...   \n",
       "\n",
       "                                       InChI_AuxInfo  target_id  ...  \\\n",
       "0  \"AuxInfo=1/1/N:7,8,1,19,16,17,4,25,12,6,5,26,9...  P49654_WT  ...   \n",
       "1  \"AuxInfo=1/1/N:7,8,1,19,16,17,4,25,12,6,5,26,9...  P56373_WT  ...   \n",
       "2  \"AuxInfo=1/1/N:7,8,1,19,16,17,4,25,12,6,5,26,9...  Q9UBL9_WT  ...   \n",
       "3  \"AuxInfo=1/1/N:1,17,18,12,11,19,3,2,13,9,10,8,...  P49137_WT  ...   \n",
       "4  \"AuxInfo=1/1/N:1,13,14,2,32,31,10,33,30,9,36,3...  P00533_WT  ...   \n",
       "\n",
       "  type_other Activity_class relation          pchembl_value  \\\n",
       "0          0            NaN        =                  7.800   \n",
       "1          0            NaN        =                  7.400   \n",
       "2          0            NaN        =                  7.400   \n",
       "3          0            NaN        <                  4.699   \n",
       "4          0            NaN        =  6.726;  6.063;  6.730   \n",
       "\n",
       "   pchembl_value_Mean pchembl_value_StdDev pchembl_value_SEM pchembl_value_N  \\\n",
       "0               7.800                0.000             0.000             1.0   \n",
       "1               7.400                0.000             0.000             1.0   \n",
       "2               7.400                0.000             0.000             1.0   \n",
       "3               4.699                0.000             0.000             1.0   \n",
       "4               6.506                0.313             0.222             3.0   \n",
       "\n",
       "  pchembl_value_Median pchembl_value_MAD  \n",
       "0                7.800             0.000  \n",
       "1                7.400             0.000  \n",
       "2                7.400             0.000  \n",
       "3                4.699             0.000  \n",
       "4                6.726             0.004  \n",
       "\n",
       "[5 rows x 29 columns]"
      ]
     },
     "execution_count": 5,
     "metadata": {},
     "output_type": "execute_result"
    }
   ],
   "source": [
    "chunk1 = next(sample_data)\n",
    "chunk1.head()"
   ]
  },
  {
   "cell_type": "markdown",
   "metadata": {},
   "source": [
    "If you are sure your hardware can handle loading all the data, then you can drop *chunksize*.<br/>\n",
    "Then the return value is a pandas dataframe."
   ]
  },
  {
   "cell_type": "markdown",
   "metadata": {},
   "source": [
    "Below, we will show how to use:\n",
    "  - a pandas dataframe (by calling our methods on *chunk1*)\n",
    "  - an iterator of pandas dataframes (by calling our methods on *sample_data*)"
   ]
  },
  {
   "cell_type": "markdown",
   "metadata": {
    "tags": []
   },
   "source": [
    "### Protein target data"
   ]
  },
  {
   "cell_type": "markdown",
   "metadata": {},
   "source": [
    "But for now let's focus on protein data:<br/>\n",
    "Information about the protein targets is available from a different file and can be loaded as easily as was demonstrated above.<br/>\n",
    "This file being very limited in size, chunking is not needed. "
   ]
  },
  {
   "cell_type": "code",
   "execution_count": 6,
   "metadata": {},
   "outputs": [
    {
     "data": {
      "text/html": [
       "<div>\n",
       "<style scoped>\n",
       "    .dataframe tbody tr th:only-of-type {\n",
       "        vertical-align: middle;\n",
       "    }\n",
       "\n",
       "    .dataframe tbody tr th {\n",
       "        vertical-align: top;\n",
       "    }\n",
       "\n",
       "    .dataframe thead th {\n",
       "        text-align: right;\n",
       "    }\n",
       "</style>\n",
       "<table border=\"1\" class=\"dataframe\">\n",
       "  <thead>\n",
       "    <tr style=\"text-align: right;\">\n",
       "      <th></th>\n",
       "      <th>target_id</th>\n",
       "      <th>HGNC_symbol</th>\n",
       "      <th>UniProtID</th>\n",
       "      <th>Status</th>\n",
       "      <th>Organism</th>\n",
       "      <th>Classification</th>\n",
       "      <th>Length</th>\n",
       "      <th>Sequence</th>\n",
       "    </tr>\n",
       "  </thead>\n",
       "  <tbody>\n",
       "    <tr>\n",
       "      <th>0</th>\n",
       "      <td>P47747_WT</td>\n",
       "      <td></td>\n",
       "      <td>HRH2_CAVPO</td>\n",
       "      <td>reviewed</td>\n",
       "      <td>Cavia porcellus (Guinea pig)</td>\n",
       "      <td>Membrane receptor-&gt;Family A G protein-coupled ...</td>\n",
       "      <td>359</td>\n",
       "      <td>MAFNGTVPSFCMDFTVYKVTISVILIILILVTVAGNVVVCLAVGLN...</td>\n",
       "    </tr>\n",
       "    <tr>\n",
       "      <th>1</th>\n",
       "      <td>B0FL73_WT</td>\n",
       "      <td></td>\n",
       "      <td>B0FL73_CAVPO</td>\n",
       "      <td>unreviewed</td>\n",
       "      <td>Cavia porcellus (Guinea pig)</td>\n",
       "      <td>Membrane receptor-&gt;Family A G protein-coupled ...</td>\n",
       "      <td>467</td>\n",
       "      <td>MGAGVLALGASEPCNLSSTAPLPDGAATAARLLVPASPPASLLPPT...</td>\n",
       "    </tr>\n",
       "    <tr>\n",
       "      <th>2</th>\n",
       "      <td>Q8K4Z4_WT</td>\n",
       "      <td></td>\n",
       "      <td>ADRB2_CAVPO</td>\n",
       "      <td>reviewed</td>\n",
       "      <td>Cavia porcellus (Guinea pig)</td>\n",
       "      <td>Membrane receptor-&gt;Family A G protein-coupled ...</td>\n",
       "      <td>418</td>\n",
       "      <td>MGHLGNGSDFLLAPNASHAPDHNVTRERDEAWVVGMAIVMSLIVLA...</td>\n",
       "    </tr>\n",
       "    <tr>\n",
       "      <th>3</th>\n",
       "      <td>P97266_WT</td>\n",
       "      <td></td>\n",
       "      <td>OPRM_CAVPO</td>\n",
       "      <td>reviewed</td>\n",
       "      <td>Cavia porcellus (Guinea pig)</td>\n",
       "      <td>Membrane receptor-&gt;Family A G protein-coupled ...</td>\n",
       "      <td>98</td>\n",
       "      <td>YTKMKTATNIYIFNLALADALATSTLPFQSVNYLMGTWPFGTILCK...</td>\n",
       "    </tr>\n",
       "    <tr>\n",
       "      <th>4</th>\n",
       "      <td>P41144_WT</td>\n",
       "      <td></td>\n",
       "      <td>OPRK_CAVPO</td>\n",
       "      <td>reviewed</td>\n",
       "      <td>Cavia porcellus (Guinea pig)</td>\n",
       "      <td>Membrane receptor-&gt;Family A G protein-coupled ...</td>\n",
       "      <td>380</td>\n",
       "      <td>MGRRRQGPAQPASELPARNACLLPNGSAWLPGWAEPDGNGSAGPQD...</td>\n",
       "    </tr>\n",
       "  </tbody>\n",
       "</table>\n",
       "</div>"
      ],
      "text/plain": [
       "   target_id HGNC_symbol     UniProtID      Status  \\\n",
       "0  P47747_WT                HRH2_CAVPO    reviewed   \n",
       "1  B0FL73_WT              B0FL73_CAVPO  unreviewed   \n",
       "2  Q8K4Z4_WT               ADRB2_CAVPO    reviewed   \n",
       "3  P97266_WT                OPRM_CAVPO    reviewed   \n",
       "4  P41144_WT                OPRK_CAVPO    reviewed   \n",
       "\n",
       "                       Organism  \\\n",
       "0  Cavia porcellus (Guinea pig)   \n",
       "1  Cavia porcellus (Guinea pig)   \n",
       "2  Cavia porcellus (Guinea pig)   \n",
       "3  Cavia porcellus (Guinea pig)   \n",
       "4  Cavia porcellus (Guinea pig)   \n",
       "\n",
       "                                      Classification  Length  \\\n",
       "0  Membrane receptor->Family A G protein-coupled ...     359   \n",
       "1  Membrane receptor->Family A G protein-coupled ...     467   \n",
       "2  Membrane receptor->Family A G protein-coupled ...     418   \n",
       "3  Membrane receptor->Family A G protein-coupled ...      98   \n",
       "4  Membrane receptor->Family A G protein-coupled ...     380   \n",
       "\n",
       "                                            Sequence  \n",
       "0  MAFNGTVPSFCMDFTVYKVTISVILIILILVTVAGNVVVCLAVGLN...  \n",
       "1  MGAGVLALGASEPCNLSSTAPLPDGAATAARLLVPASPPASLLPPT...  \n",
       "2  MGHLGNGSDFLLAPNASHAPDHNVTRERDEAWVVGMAIVMSLIVLA...  \n",
       "3  YTKMKTATNIYIFNLALADALATSTLPFQSVNYLMGTWPFGTILCK...  \n",
       "4  MGRRRQGPAQPASELPARNACLLPNGSAWLPGWAEPDGNGSAGPQD...  "
      ]
     },
     "execution_count": 6,
     "metadata": {},
     "output_type": "execute_result"
    }
   ],
   "source": [
    "protein_data = read_protein_set(source_path=PAPYRUS_DATA_FOLDER)\n",
    "protein_data.head()"
   ]
  },
  {
   "cell_type": "markdown",
   "metadata": {
    "tags": []
   },
   "source": [
    "## Filtering Papyrus"
   ]
  },
  {
   "cell_type": "markdown",
   "metadata": {},
   "source": [
    "The data contained in the dataset can be filtered very easily using functions under *papyrus_scripts.preprocess*.<br/>\n",
    "All filtering functions start with ***keep_***."
   ]
  },
  {
   "cell_type": "code",
   "execution_count": 7,
   "metadata": {},
   "outputs": [],
   "source": [
    "from papyrus_scripts.preprocess import (keep_quality, keep_source, keep_type,\n",
    "                                        keep_organism, keep_accession, keep_protein_class\n",
    "                                       )"
   ]
  },
  {
   "cell_type": "markdown",
   "metadata": {},
   "source": [
    "**The strength of the Papyrus scripts is that the data can be filtered whether chunked or not.** The only difference:\n",
    "  - when using chunked data, call *consume_chunks* once all filters are applied to reconstiture a pandas dataframe"
   ]
  },
  {
   "cell_type": "markdown",
   "metadata": {
    "tags": []
   },
   "source": [
    "### Filtering pandas dataframes"
   ]
  },
  {
   "cell_type": "markdown",
   "metadata": {},
   "source": [
    "Let's first keep the data with quality 'medium' and above (namely 'high' and 'medium')."
   ]
  },
  {
   "cell_type": "code",
   "execution_count": 8,
   "metadata": {},
   "outputs": [],
   "source": [
    "filter1 = keep_quality(data=chunk1, min_quality='medium')"
   ]
  },
  {
   "cell_type": "markdown",
   "metadata": {},
   "source": [
    "<u>Using <a href=\"https://www.ebi.ac.uk/chembl/visualise/\">ChEMBL's protein target tree</a> is encouraged for this part.</u><br/>\n",
    "<br/>\n",
    "We will then filter out any protein not belonging to these two classes:\n",
    "* Ligand-gated ion channels\n",
    "* SLC superfamily of solute carriers"
   ]
  },
  {
   "cell_type": "markdown",
   "metadata": {},
   "source": [
    "For this filter, passing protein information is required (the same applies for *keep_organism* and *keep_accession*)."
   ]
  },
  {
   "cell_type": "code",
   "execution_count": 9,
   "metadata": {},
   "outputs": [],
   "source": [
    "filter2 = keep_protein_class(data=filter1, protein_data=protein_data, classes=[{'l2': 'Ligand-gated ion channels'}, {'l3': 'SLC superfamily of solute carriers'}])"
   ]
  },
  {
   "cell_type": "markdown",
   "metadata": {},
   "source": [
    "We now keep only K<sub>i</sub> and K<sub>D</sub> data.<br/>\n",
    "Here we will pass filter1 to the next *keep_* funtion."
   ]
  },
  {
   "cell_type": "code",
   "execution_count": 10,
   "metadata": {},
   "outputs": [],
   "source": [
    "filter3 = keep_type(data=filter2, activity_types=['Ki', 'KD'])"
   ]
  },
  {
   "cell_type": "markdown",
   "metadata": {},
   "source": [
    "We finally keep only human and rat data (protein information is also required here)."
   ]
  },
  {
   "cell_type": "code",
   "execution_count": 11,
   "metadata": {},
   "outputs": [],
   "source": [
    "filter4 = keep_organism(data=filter3, protein_data=protein_data, organism=['Human', 'Rat'], generic_regex=True)"
   ]
  },
  {
   "cell_type": "markdown",
   "metadata": {},
   "source": [
    "Let us have a look at the filtered data."
   ]
  },
  {
   "cell_type": "code",
   "execution_count": 12,
   "metadata": {},
   "outputs": [
    {
     "data": {
      "text/html": [
       "<div>\n",
       "<style scoped>\n",
       "    .dataframe tbody tr th:only-of-type {\n",
       "        vertical-align: middle;\n",
       "    }\n",
       "\n",
       "    .dataframe tbody tr th {\n",
       "        vertical-align: top;\n",
       "    }\n",
       "\n",
       "    .dataframe thead th {\n",
       "        text-align: right;\n",
       "    }\n",
       "</style>\n",
       "<table border=\"1\" class=\"dataframe\">\n",
       "  <thead>\n",
       "    <tr style=\"text-align: right;\">\n",
       "      <th></th>\n",
       "      <th>Activity_ID</th>\n",
       "      <th>Quality</th>\n",
       "      <th>source</th>\n",
       "      <th>CID</th>\n",
       "      <th>SMILES</th>\n",
       "      <th>connectivity</th>\n",
       "      <th>InChIKey</th>\n",
       "      <th>InChI</th>\n",
       "      <th>InChI_AuxInfo</th>\n",
       "      <th>target_id</th>\n",
       "      <th>...</th>\n",
       "      <th>type_other</th>\n",
       "      <th>Activity_class</th>\n",
       "      <th>relation</th>\n",
       "      <th>pchembl_value</th>\n",
       "      <th>pchembl_value_Mean</th>\n",
       "      <th>pchembl_value_StdDev</th>\n",
       "      <th>pchembl_value_SEM</th>\n",
       "      <th>pchembl_value_N</th>\n",
       "      <th>pchembl_value_Median</th>\n",
       "      <th>pchembl_value_MAD</th>\n",
       "    </tr>\n",
       "  </thead>\n",
       "  <tbody>\n",
       "    <tr>\n",
       "      <th>804</th>\n",
       "      <td>AAEKULYONKUBOZ_on_P23975_WT</td>\n",
       "      <td>Medium</td>\n",
       "      <td>ChEMBL29</td>\n",
       "      <td>CHEMBL14144</td>\n",
       "      <td>CN1C2CCC1C(C(=O)Oc1ccccc1)C(c1ccc(Cl)cc1)C2</td>\n",
       "      <td>AAEKULYONKUBOZ</td>\n",
       "      <td>AAEKULYONKUBOZ-UHFFFAOYSA-N</td>\n",
       "      <td>InChI=1S/C21H22ClNO2/c1-23-16-11-12-19(23)20(2...</td>\n",
       "      <td>\"AuxInfo=1/0/N:1,14,13,15,12,16,19,24,20,23,4,...</td>\n",
       "      <td>P23975_WT</td>\n",
       "      <td>...</td>\n",
       "      <td>0</td>\n",
       "      <td>NaN</td>\n",
       "      <td>=</td>\n",
       "      <td>6.620</td>\n",
       "      <td>6.62</td>\n",
       "      <td>0.0</td>\n",
       "      <td>0.0</td>\n",
       "      <td>1.0</td>\n",
       "      <td>6.62</td>\n",
       "      <td>0.0</td>\n",
       "    </tr>\n",
       "    <tr>\n",
       "      <th>805</th>\n",
       "      <td>AAEKULYONKUBOZ_on_P23977_WT</td>\n",
       "      <td>High</td>\n",
       "      <td>ChEMBL29</td>\n",
       "      <td>CHEMBL14144</td>\n",
       "      <td>CN1C2CCC1C(C(=O)Oc1ccccc1)C(c1ccc(Cl)cc1)C2</td>\n",
       "      <td>AAEKULYONKUBOZ</td>\n",
       "      <td>AAEKULYONKUBOZ-UHFFFAOYSA-N</td>\n",
       "      <td>InChI=1S/C21H22ClNO2/c1-23-16-11-12-19(23)20(2...</td>\n",
       "      <td>\"AuxInfo=1/0/N:1,14,13,15,12,16,19,24,20,23,4,...</td>\n",
       "      <td>P23977_WT</td>\n",
       "      <td>...</td>\n",
       "      <td>0</td>\n",
       "      <td>NaN</td>\n",
       "      <td>=</td>\n",
       "      <td>8.280</td>\n",
       "      <td>8.28</td>\n",
       "      <td>0.0</td>\n",
       "      <td>0.0</td>\n",
       "      <td>1.0</td>\n",
       "      <td>8.28</td>\n",
       "      <td>0.0</td>\n",
       "    </tr>\n",
       "    <tr>\n",
       "      <th>806</th>\n",
       "      <td>AAEKULYONKUBOZ_on_P31645_WT</td>\n",
       "      <td>High</td>\n",
       "      <td>ChEMBL29</td>\n",
       "      <td>CHEMBL14144</td>\n",
       "      <td>CN1C2CCC1C(C(=O)Oc1ccccc1)C(c1ccc(Cl)cc1)C2</td>\n",
       "      <td>AAEKULYONKUBOZ</td>\n",
       "      <td>AAEKULYONKUBOZ-UHFFFAOYSA-N</td>\n",
       "      <td>InChI=1S/C21H22ClNO2/c1-23-16-11-12-19(23)20(2...</td>\n",
       "      <td>\"AuxInfo=1/0/N:1,14,13,15,12,16,19,24,20,23,4,...</td>\n",
       "      <td>P31645_WT</td>\n",
       "      <td>...</td>\n",
       "      <td>0</td>\n",
       "      <td>NaN</td>\n",
       "      <td>=</td>\n",
       "      <td>6.410</td>\n",
       "      <td>6.41</td>\n",
       "      <td>0.0</td>\n",
       "      <td>0.0</td>\n",
       "      <td>1.0</td>\n",
       "      <td>6.41</td>\n",
       "      <td>0.0</td>\n",
       "    </tr>\n",
       "    <tr>\n",
       "      <th>808</th>\n",
       "      <td>AAEKULYONKUBOZ_on_Q9WTR4_WT</td>\n",
       "      <td>High</td>\n",
       "      <td>ChEMBL29</td>\n",
       "      <td>CHEMBL14144</td>\n",
       "      <td>CN1C2CCC1C(C(=O)Oc1ccccc1)C(c1ccc(Cl)cc1)C2</td>\n",
       "      <td>AAEKULYONKUBOZ</td>\n",
       "      <td>AAEKULYONKUBOZ-UHFFFAOYSA-N</td>\n",
       "      <td>InChI=1S/C21H22ClNO2/c1-23-16-11-12-19(23)20(2...</td>\n",
       "      <td>\"AuxInfo=1/0/N:1,14,13,15,12,16,19,24,20,23,4,...</td>\n",
       "      <td>Q9WTR4_WT</td>\n",
       "      <td>...</td>\n",
       "      <td>0</td>\n",
       "      <td>NaN</td>\n",
       "      <td>=</td>\n",
       "      <td>6.620</td>\n",
       "      <td>6.62</td>\n",
       "      <td>0.0</td>\n",
       "      <td>0.0</td>\n",
       "      <td>1.0</td>\n",
       "      <td>6.62</td>\n",
       "      <td>0.0</td>\n",
       "    </tr>\n",
       "    <tr>\n",
       "      <th>809</th>\n",
       "      <td>AAEKULYONKUBOZ_on_Q01959_WT</td>\n",
       "      <td>Medium</td>\n",
       "      <td>ChEMBL29</td>\n",
       "      <td>CHEMBL14144</td>\n",
       "      <td>CN1C2CCC1C(C(=O)Oc1ccccc1)C(c1ccc(Cl)cc1)C2</td>\n",
       "      <td>AAEKULYONKUBOZ</td>\n",
       "      <td>AAEKULYONKUBOZ-UHFFFAOYSA-N</td>\n",
       "      <td>InChI=1S/C21H22ClNO2/c1-23-16-11-12-19(23)20(2...</td>\n",
       "      <td>\"AuxInfo=1/0/N:1,14,13,15,12,16,19,24,20,23,4,...</td>\n",
       "      <td>Q01959_WT</td>\n",
       "      <td>...</td>\n",
       "      <td>0</td>\n",
       "      <td>NaN</td>\n",
       "      <td>=</td>\n",
       "      <td>8.280</td>\n",
       "      <td>8.28</td>\n",
       "      <td>0.0</td>\n",
       "      <td>0.0</td>\n",
       "      <td>1.0</td>\n",
       "      <td>8.28</td>\n",
       "      <td>0.0</td>\n",
       "    </tr>\n",
       "  </tbody>\n",
       "</table>\n",
       "<p>5 rows × 29 columns</p>\n",
       "</div>"
      ],
      "text/plain": [
       "                     Activity_ID Quality    source          CID  \\\n",
       "804  AAEKULYONKUBOZ_on_P23975_WT  Medium  ChEMBL29  CHEMBL14144   \n",
       "805  AAEKULYONKUBOZ_on_P23977_WT    High  ChEMBL29  CHEMBL14144   \n",
       "806  AAEKULYONKUBOZ_on_P31645_WT    High  ChEMBL29  CHEMBL14144   \n",
       "808  AAEKULYONKUBOZ_on_Q9WTR4_WT    High  ChEMBL29  CHEMBL14144   \n",
       "809  AAEKULYONKUBOZ_on_Q01959_WT  Medium  ChEMBL29  CHEMBL14144   \n",
       "\n",
       "                                          SMILES    connectivity  \\\n",
       "804  CN1C2CCC1C(C(=O)Oc1ccccc1)C(c1ccc(Cl)cc1)C2  AAEKULYONKUBOZ   \n",
       "805  CN1C2CCC1C(C(=O)Oc1ccccc1)C(c1ccc(Cl)cc1)C2  AAEKULYONKUBOZ   \n",
       "806  CN1C2CCC1C(C(=O)Oc1ccccc1)C(c1ccc(Cl)cc1)C2  AAEKULYONKUBOZ   \n",
       "808  CN1C2CCC1C(C(=O)Oc1ccccc1)C(c1ccc(Cl)cc1)C2  AAEKULYONKUBOZ   \n",
       "809  CN1C2CCC1C(C(=O)Oc1ccccc1)C(c1ccc(Cl)cc1)C2  AAEKULYONKUBOZ   \n",
       "\n",
       "                        InChIKey  \\\n",
       "804  AAEKULYONKUBOZ-UHFFFAOYSA-N   \n",
       "805  AAEKULYONKUBOZ-UHFFFAOYSA-N   \n",
       "806  AAEKULYONKUBOZ-UHFFFAOYSA-N   \n",
       "808  AAEKULYONKUBOZ-UHFFFAOYSA-N   \n",
       "809  AAEKULYONKUBOZ-UHFFFAOYSA-N   \n",
       "\n",
       "                                                 InChI  \\\n",
       "804  InChI=1S/C21H22ClNO2/c1-23-16-11-12-19(23)20(2...   \n",
       "805  InChI=1S/C21H22ClNO2/c1-23-16-11-12-19(23)20(2...   \n",
       "806  InChI=1S/C21H22ClNO2/c1-23-16-11-12-19(23)20(2...   \n",
       "808  InChI=1S/C21H22ClNO2/c1-23-16-11-12-19(23)20(2...   \n",
       "809  InChI=1S/C21H22ClNO2/c1-23-16-11-12-19(23)20(2...   \n",
       "\n",
       "                                         InChI_AuxInfo  target_id  ...  \\\n",
       "804  \"AuxInfo=1/0/N:1,14,13,15,12,16,19,24,20,23,4,...  P23975_WT  ...   \n",
       "805  \"AuxInfo=1/0/N:1,14,13,15,12,16,19,24,20,23,4,...  P23977_WT  ...   \n",
       "806  \"AuxInfo=1/0/N:1,14,13,15,12,16,19,24,20,23,4,...  P31645_WT  ...   \n",
       "808  \"AuxInfo=1/0/N:1,14,13,15,12,16,19,24,20,23,4,...  Q9WTR4_WT  ...   \n",
       "809  \"AuxInfo=1/0/N:1,14,13,15,12,16,19,24,20,23,4,...  Q01959_WT  ...   \n",
       "\n",
       "    type_other Activity_class relation pchembl_value  pchembl_value_Mean  \\\n",
       "804          0            NaN        =         6.620                6.62   \n",
       "805          0            NaN        =         8.280                8.28   \n",
       "806          0            NaN        =         6.410                6.41   \n",
       "808          0            NaN        =         6.620                6.62   \n",
       "809          0            NaN        =         8.280                8.28   \n",
       "\n",
       "    pchembl_value_StdDev pchembl_value_SEM pchembl_value_N  \\\n",
       "804                  0.0               0.0             1.0   \n",
       "805                  0.0               0.0             1.0   \n",
       "806                  0.0               0.0             1.0   \n",
       "808                  0.0               0.0             1.0   \n",
       "809                  0.0               0.0             1.0   \n",
       "\n",
       "    pchembl_value_Median pchembl_value_MAD  \n",
       "804                 6.62               0.0  \n",
       "805                 8.28               0.0  \n",
       "806                 6.41               0.0  \n",
       "808                 6.62               0.0  \n",
       "809                 8.28               0.0  \n",
       "\n",
       "[5 rows x 29 columns]"
      ]
     },
     "execution_count": 12,
     "metadata": {},
     "output_type": "execute_result"
    }
   ],
   "source": [
    "filter4.head()"
   ]
  },
  {
   "cell_type": "code",
   "execution_count": 13,
   "metadata": {},
   "outputs": [
    {
     "data": {
      "text/plain": [
       "'Number of activity points: 53'"
      ]
     },
     "execution_count": 13,
     "metadata": {},
     "output_type": "execute_result"
    }
   ],
   "source": [
    "f'Number of activity points: {filter4.shape[0]}'"
   ]
  },
  {
   "cell_type": "markdown",
   "metadata": {},
   "source": [
    "Remember that this result comes from only the first chunk of the entire dataset."
   ]
  },
  {
   "cell_type": "markdown",
   "metadata": {},
   "source": [
    "One can now save this dataframe like any other pandas object."
   ]
  },
  {
   "cell_type": "markdown",
   "metadata": {
    "tags": []
   },
   "source": [
    "### Filtering iterators of dataframes"
   ]
  },
  {
   "cell_type": "markdown",
   "metadata": {},
   "source": [
    "Now that the filtering capacity of the Papyrus scripts have been demonstrated for entire dataframes, we can try with chunked iterators."
   ]
  },
  {
   "cell_type": "markdown",
   "metadata": {},
   "source": [
    "Let's first reinstanciate sample data. This time we will use a chunk size of 1,000,000."
   ]
  },
  {
   "cell_type": "code",
   "execution_count": 14,
   "metadata": {},
   "outputs": [],
   "source": [
    "sample_data = read_papyrus(is3d=False, chunksize=1000000, source_path=PAPYRUS_DATA_FOLDER)"
   ]
  },
  {
   "cell_type": "markdown",
   "metadata": {},
   "source": [
    "For this will will go through the same filters as above but iterate over the entire dataset."
   ]
  },
  {
   "cell_type": "code",
   "execution_count": 15,
   "metadata": {},
   "outputs": [],
   "source": [
    "filter1_it = keep_quality(data=sample_data, min_quality='medium')\n",
    "filter2_it = keep_protein_class(data=filter1_it, protein_data=protein_data, classes=[{'l2': 'Ligand-gated ion channels'}, {'l3': 'SLC superfamily of solute carriers'}])\n",
    "filter3_it = keep_type(data=filter2_it, activity_types=['Ki', 'KD'])\n",
    "filter4_it = keep_organism(data=filter3_it, protein_data=protein_data, organism=['Human', 'Rat'], generic_regex=True)"
   ]
  },
  {
   "cell_type": "markdown",
   "metadata": {},
   "source": [
    "The filters do not get applied directly on chunked iterators and one can easily check that *filter4_it* is not a pandas dataframe."
   ]
  },
  {
   "cell_type": "code",
   "execution_count": 16,
   "metadata": {},
   "outputs": [
    {
     "data": {
      "text/plain": [
       "<generator object _chunked_keep_organism at 0x000002BCF5A70780>"
      ]
     },
     "execution_count": 16,
     "metadata": {},
     "output_type": "execute_result"
    }
   ],
   "source": [
    "filter4_it"
   ]
  },
  {
   "cell_type": "markdown",
   "metadata": {},
   "source": [
    "To apply the filters on the entire iterator, one needs to call *consume_chunks*.<br/>\n",
    "This function can be found under *papyrus_scripts.preprocess* just like the *keep_* functions used for filtering."
   ]
  },
  {
   "cell_type": "code",
   "execution_count": 17,
   "metadata": {},
   "outputs": [],
   "source": [
    "from papyrus_scripts.preprocess import consume_chunks"
   ]
  },
  {
   "cell_type": "markdown",
   "metadata": {},
   "source": [
    "In order to follow progress of the filtering process, one needs to pass the total number of chunks the filters will go through.<br/>\n",
    "$Total = \\displaystyle \\Bigl \\lceil\\frac{Size_{dataset}}{chunksize}\\Bigl \\rceil $<br/>"
   ]
  },
  {
   "cell_type": "markdown",
   "metadata": {},
   "source": [
    "In version 5.4 of the Papyrus dataset the number of compound-protein activity points depends on whether stereochemistry is used or not **(remember we discourage its usage)**.<br/>\n"
   ]
  },
  {
   "cell_type": "markdown",
   "metadata": {},
   "source": [
    "| Stereochemistry | Total size |\n",
    "| :--- | :---: |\n",
    "| Without | 59,763,781 |\n",
    "| With (strongly discouraged) | 61,085,152 |"
   ]
  },
  {
   "cell_type": "markdown",
   "metadata": {},
   "source": [
    "In this example $Total = \\displaystyle \\Bigl \\lceil \\frac{59,763,781}{1,000,000}\\Bigl \\rceil = 60 $<br/>"
   ]
  },
  {
   "cell_type": "code",
   "execution_count": 18,
   "metadata": {},
   "outputs": [
    {
     "data": {
      "application/vnd.jupyter.widget-view+json": {
       "model_id": "2b05ff7ca67e4ba0a679f2eec7c9dc5e",
       "version_major": 2,
       "version_minor": 0
      },
      "text/plain": [
       "  0%|          | 0/60 [00:00<?, ?it/s]"
      ]
     },
     "metadata": {},
     "output_type": "display_data"
    }
   ],
   "source": [
    "filtered_data = consume_chunks(filter4_it, progress=True, total=60)"
   ]
  },
  {
   "cell_type": "markdown",
   "metadata": {},
   "source": [
    "Although this may take around 30 minutes to filter the entire dataset, this is the ideal way to work with this dataset from laptops."
   ]
  },
  {
   "cell_type": "code",
   "execution_count": 19,
   "metadata": {},
   "outputs": [
    {
     "data": {
      "text/plain": [
       "'Number of activity points: 53'"
      ]
     },
     "execution_count": 19,
     "metadata": {},
     "output_type": "execute_result"
    }
   ],
   "source": [
    "f'Number of activity points: {filter4.shape[0]}'"
   ]
  },
  {
   "cell_type": "markdown",
   "metadata": {},
   "source": [
    "We hope these simple examples demonstrated how the Papyrus data can easily be filtered.\n",
    "Let's now focus on the modelling"
   ]
  },
  {
   "cell_type": "markdown",
   "metadata": {},
   "source": [
    "## Modelling the bioactivity data"
   ]
  },
  {
   "cell_type": "markdown",
   "metadata": {},
   "source": [
    "The Papyrus scripts allow for both quantitative structure-activity relationship (QSAR) and proteochemometrics (PCM) modelling.<br/>\n",
    "All functions related to modelling can be found under *papyrus_scripts.modelling*."
   ]
  },
  {
   "cell_type": "markdown",
   "metadata": {},
   "source": [
    "**Disclaimer:**<br/>\n",
    "For now, only precomputed molecular descriptors can be used, preventing the use of models outside of Papyrus.<br/>\n",
    "This major flaw will be soon fixed."
   ]
  },
  {
   "cell_type": "markdown",
   "metadata": {},
   "source": [
    "### QSAR models"
   ]
  },
  {
   "cell_type": "code",
   "execution_count": 20,
   "metadata": {},
   "outputs": [],
   "source": [
    "from papyrus_scripts.modelling import qsar\n",
    "import xgboost"
   ]
  },
  {
   "cell_type": "markdown",
   "metadata": {},
   "source": [
    "Let us first restrict the data that we just extracted from Papyrus to the human serotonin receptor (accession P31645)."
   ]
  },
  {
   "cell_type": "code",
   "execution_count": 21,
   "metadata": {},
   "outputs": [],
   "source": [
    "sample_data = read_papyrus(is3d=False, chunksize=1000000, source_path=PAPYRUS_DATA_FOLDER)\n",
    "filter1_it = keep_accession(sample_data, 'P31645')\n",
    "filter2_it = keep_quality(data=filter1_it, min_quality='medium')\n",
    "filter3_it = keep_type(data=filter2_it, activity_types=['Ki', 'KD'])"
   ]
  },
  {
   "cell_type": "code",
   "execution_count": 22,
   "metadata": {},
   "outputs": [
    {
     "data": {
      "application/vnd.jupyter.widget-view+json": {
       "model_id": "6a174e8d229e4fe897e5947f9182d45b",
       "version_major": 2,
       "version_minor": 0
      },
      "text/plain": [
       "  0%|          | 0/60 [00:00<?, ?it/s]"
      ]
     },
     "metadata": {},
     "output_type": "display_data"
    }
   ],
   "source": [
    "SLC6A4_data = consume_chunks(filter3_it, total=60)"
   ]
  },
  {
   "cell_type": "markdown",
   "metadata": {},
   "source": [
    "Herein it is assumed that the Papyrus <a href=\"https://drive.google.com/drive/folders/1Lhw5G6gu_nLzHQoGmnl02uhFsmOgEZ5a?usp=sharing\">molecular descriptors</a> were dowloaded and placed in the ***PAPYRUS_DATA_FOLDER*** folder."
   ]
  },
  {
   "cell_type": "markdown",
   "metadata": {},
   "source": [
    "We will first create a regression model predicting the average pActivity values of a compound-target pair (i.e. *pchembl_value_Mean*)."
   ]
  },
  {
   "cell_type": "code",
   "execution_count": 23,
   "metadata": {},
   "outputs": [],
   "source": [
    "reg_model = xgboost.XGBRegressor(verbosity=0)"
   ]
  },
  {
   "cell_type": "code",
   "execution_count": 24,
   "metadata": {},
   "outputs": [
    {
     "data": {
      "application/vnd.jupyter.widget-view+json": {
       "model_id": "d59afc7dabf448628d52528dc55a77c8",
       "version_major": 2,
       "version_minor": 0
      },
      "text/plain": [
       "Loading molecular descriptors: 0it [00:00, ?it/s]"
      ]
     },
     "metadata": {},
     "output_type": "display_data"
    },
    {
     "data": {
      "application/vnd.jupyter.widget-view+json": {
       "model_id": "46f898e7a74c4123990f8d88b32f286e",
       "version_major": 2,
       "version_minor": 0
      },
      "text/plain": [
       "  0%|                                                                                             | 0/1 [00:00…"
      ]
     },
     "metadata": {},
     "output_type": "display_data"
    }
   ],
   "source": [
    "reg_results, trained_reg_model = qsar(data=SLC6A4_data,\n",
    "                                  endpoint='pchembl_value_Mean',\n",
    "                                  quality='low',\n",
    "                                  source='any',\n",
    "                                  activity_types='any',\n",
    "                                  num_points=30,\n",
    "                                  delta_activity=2,\n",
    "                                  descriptors='mold2',\n",
    "                                  descriptor_path=PAPYRUS_DATA_FOLDER,\n",
    "                                  descriptor_chunksize=50000,\n",
    "                                  activity_threshold=6.5,\n",
    "                                  model=reg_model,\n",
    "                                  folds=5,\n",
    "                                  stratify=False,\n",
    "                                  split_by='Year',\n",
    "                                  split_year=2013,\n",
    "                                  test_set_size=0.30,\n",
    "                                  validation_set_size=0.30,\n",
    "                                  cluster_method=None,\n",
    "                                  custom_groups=None,\n",
    "                                  random_state=1234,\n",
    "                                  verbose=True)"
   ]
  },
  {
   "cell_type": "code",
   "execution_count": 25,
   "metadata": {},
   "outputs": [
    {
     "data": {
      "text/html": [
       "<div>\n",
       "<style scoped>\n",
       "    .dataframe tbody tr th:only-of-type {\n",
       "        vertical-align: middle;\n",
       "    }\n",
       "\n",
       "    .dataframe tbody tr th {\n",
       "        vertical-align: top;\n",
       "    }\n",
       "\n",
       "    .dataframe thead th {\n",
       "        text-align: right;\n",
       "    }\n",
       "</style>\n",
       "<table border=\"1\" class=\"dataframe\">\n",
       "  <thead>\n",
       "    <tr style=\"text-align: right;\">\n",
       "      <th></th>\n",
       "      <th></th>\n",
       "      <th>number</th>\n",
       "      <th>R2</th>\n",
       "      <th>MSE</th>\n",
       "      <th>RMSE</th>\n",
       "      <th>MSLE</th>\n",
       "      <th>RMSLE</th>\n",
       "      <th>MAE</th>\n",
       "      <th>Explained Variance</th>\n",
       "      <th>Max Error</th>\n",
       "      <th>Mean Poisson Distrib</th>\n",
       "      <th>Mean Gamma Distrib</th>\n",
       "      <th>Pearson r</th>\n",
       "      <th>Spearman r</th>\n",
       "      <th>Kendall tau</th>\n",
       "    </tr>\n",
       "  </thead>\n",
       "  <tbody>\n",
       "    <tr>\n",
       "      <th rowspan=\"8\" valign=\"top\">P31645_WT</th>\n",
       "      <th>Fold 1</th>\n",
       "      <td>341.000000</td>\n",
       "      <td>0.613751</td>\n",
       "      <td>0.611546</td>\n",
       "      <td>0.782014</td>\n",
       "      <td>0.009559</td>\n",
       "      <td>0.097771</td>\n",
       "      <td>0.599266</td>\n",
       "      <td>0.613907</td>\n",
       "      <td>3.217580</td>\n",
       "      <td>0.086353</td>\n",
       "      <td>0.012412</td>\n",
       "      <td>0.783526</td>\n",
       "      <td>0.778330</td>\n",
       "      <td>0.590912</td>\n",
       "    </tr>\n",
       "    <tr>\n",
       "      <th>Fold 2</th>\n",
       "      <td>341.000000</td>\n",
       "      <td>0.522181</td>\n",
       "      <td>0.725680</td>\n",
       "      <td>0.851868</td>\n",
       "      <td>0.011601</td>\n",
       "      <td>0.107708</td>\n",
       "      <td>0.643654</td>\n",
       "      <td>0.522279</td>\n",
       "      <td>4.162226</td>\n",
       "      <td>0.104763</td>\n",
       "      <td>0.015442</td>\n",
       "      <td>0.727999</td>\n",
       "      <td>0.732167</td>\n",
       "      <td>0.546937</td>\n",
       "    </tr>\n",
       "    <tr>\n",
       "      <th>Fold 3</th>\n",
       "      <td>341.000000</td>\n",
       "      <td>0.555722</td>\n",
       "      <td>0.675527</td>\n",
       "      <td>0.821904</td>\n",
       "      <td>0.010439</td>\n",
       "      <td>0.102172</td>\n",
       "      <td>0.599939</td>\n",
       "      <td>0.557242</td>\n",
       "      <td>2.975757</td>\n",
       "      <td>0.095199</td>\n",
       "      <td>0.013642</td>\n",
       "      <td>0.748005</td>\n",
       "      <td>0.733045</td>\n",
       "      <td>0.555637</td>\n",
       "    </tr>\n",
       "    <tr>\n",
       "      <th>Fold 4</th>\n",
       "      <td>341.000000</td>\n",
       "      <td>0.557549</td>\n",
       "      <td>0.668057</td>\n",
       "      <td>0.817347</td>\n",
       "      <td>0.010817</td>\n",
       "      <td>0.104003</td>\n",
       "      <td>0.604281</td>\n",
       "      <td>0.563145</td>\n",
       "      <td>2.992420</td>\n",
       "      <td>0.095203</td>\n",
       "      <td>0.013921</td>\n",
       "      <td>0.751657</td>\n",
       "      <td>0.771598</td>\n",
       "      <td>0.577344</td>\n",
       "    </tr>\n",
       "    <tr>\n",
       "      <th>Fold 5</th>\n",
       "      <td>340.000000</td>\n",
       "      <td>0.580592</td>\n",
       "      <td>0.632147</td>\n",
       "      <td>0.795077</td>\n",
       "      <td>0.009619</td>\n",
       "      <td>0.098078</td>\n",
       "      <td>0.594852</td>\n",
       "      <td>0.580627</td>\n",
       "      <td>3.077268</td>\n",
       "      <td>0.088472</td>\n",
       "      <td>0.012591</td>\n",
       "      <td>0.762783</td>\n",
       "      <td>0.759198</td>\n",
       "      <td>0.573053</td>\n",
       "    </tr>\n",
       "    <tr>\n",
       "      <th>Mean</th>\n",
       "      <td>340.800000</td>\n",
       "      <td>0.565959</td>\n",
       "      <td>0.662591</td>\n",
       "      <td>0.813642</td>\n",
       "      <td>0.010407</td>\n",
       "      <td>0.101946</td>\n",
       "      <td>0.608398</td>\n",
       "      <td>0.567440</td>\n",
       "      <td>3.285050</td>\n",
       "      <td>0.093998</td>\n",
       "      <td>0.013602</td>\n",
       "      <td>0.754794</td>\n",
       "      <td>0.754868</td>\n",
       "      <td>0.568777</td>\n",
       "    </tr>\n",
       "    <tr>\n",
       "      <th>SD</th>\n",
       "      <td>0.365148</td>\n",
       "      <td>0.027659</td>\n",
       "      <td>0.035847</td>\n",
       "      <td>0.021940</td>\n",
       "      <td>0.000699</td>\n",
       "      <td>0.003413</td>\n",
       "      <td>0.016322</td>\n",
       "      <td>0.027371</td>\n",
       "      <td>0.407933</td>\n",
       "      <td>0.005884</td>\n",
       "      <td>0.000994</td>\n",
       "      <td>0.016650</td>\n",
       "      <td>0.017515</td>\n",
       "      <td>0.014325</td>\n",
       "    </tr>\n",
       "    <tr>\n",
       "      <th>Test set</th>\n",
       "      <td>309.000000</td>\n",
       "      <td>-0.137833</td>\n",
       "      <td>1.371653</td>\n",
       "      <td>1.171176</td>\n",
       "      <td>0.020634</td>\n",
       "      <td>0.143644</td>\n",
       "      <td>0.892420</td>\n",
       "      <td>-0.127932</td>\n",
       "      <td>3.542618</td>\n",
       "      <td>0.188637</td>\n",
       "      <td>0.026236</td>\n",
       "      <td>0.247963</td>\n",
       "      <td>0.254628</td>\n",
       "      <td>0.190017</td>\n",
       "    </tr>\n",
       "  </tbody>\n",
       "</table>\n",
       "</div>"
      ],
      "text/plain": [
       "                        number        R2       MSE      RMSE      MSLE  \\\n",
       "P31645_WT Fold 1    341.000000  0.613751  0.611546  0.782014  0.009559   \n",
       "          Fold 2    341.000000  0.522181  0.725680  0.851868  0.011601   \n",
       "          Fold 3    341.000000  0.555722  0.675527  0.821904  0.010439   \n",
       "          Fold 4    341.000000  0.557549  0.668057  0.817347  0.010817   \n",
       "          Fold 5    340.000000  0.580592  0.632147  0.795077  0.009619   \n",
       "          Mean      340.800000  0.565959  0.662591  0.813642  0.010407   \n",
       "          SD          0.365148  0.027659  0.035847  0.021940  0.000699   \n",
       "          Test set  309.000000 -0.137833  1.371653  1.171176  0.020634   \n",
       "\n",
       "                       RMSLE       MAE  Explained Variance  Max Error  \\\n",
       "P31645_WT Fold 1    0.097771  0.599266            0.613907   3.217580   \n",
       "          Fold 2    0.107708  0.643654            0.522279   4.162226   \n",
       "          Fold 3    0.102172  0.599939            0.557242   2.975757   \n",
       "          Fold 4    0.104003  0.604281            0.563145   2.992420   \n",
       "          Fold 5    0.098078  0.594852            0.580627   3.077268   \n",
       "          Mean      0.101946  0.608398            0.567440   3.285050   \n",
       "          SD        0.003413  0.016322            0.027371   0.407933   \n",
       "          Test set  0.143644  0.892420           -0.127932   3.542618   \n",
       "\n",
       "                    Mean Poisson Distrib  Mean Gamma Distrib  Pearson r  \\\n",
       "P31645_WT Fold 1                0.086353            0.012412   0.783526   \n",
       "          Fold 2                0.104763            0.015442   0.727999   \n",
       "          Fold 3                0.095199            0.013642   0.748005   \n",
       "          Fold 4                0.095203            0.013921   0.751657   \n",
       "          Fold 5                0.088472            0.012591   0.762783   \n",
       "          Mean                  0.093998            0.013602   0.754794   \n",
       "          SD                    0.005884            0.000994   0.016650   \n",
       "          Test set              0.188637            0.026236   0.247963   \n",
       "\n",
       "                    Spearman r  Kendall tau  \n",
       "P31645_WT Fold 1      0.778330     0.590912  \n",
       "          Fold 2      0.732167     0.546937  \n",
       "          Fold 3      0.733045     0.555637  \n",
       "          Fold 4      0.771598     0.577344  \n",
       "          Fold 5      0.759198     0.573053  \n",
       "          Mean        0.754868     0.568777  \n",
       "          SD          0.017515     0.014325  \n",
       "          Test set    0.254628     0.190017  "
      ]
     },
     "execution_count": 25,
     "metadata": {},
     "output_type": "execute_result"
    }
   ],
   "source": [
    "reg_results"
   ]
  },
  {
   "cell_type": "markdown",
   "metadata": {},
   "source": [
    "When looking at average R<sup>2</sup>, performance over cross-validation is correct but the model show very little capacity to predict the temporally split test set."
   ]
  },
  {
   "cell_type": "markdown",
   "metadata": {},
   "source": [
    "To train a classifier, all that is needed is to change the type of model."
   ]
  },
  {
   "cell_type": "code",
   "execution_count": 26,
   "metadata": {},
   "outputs": [],
   "source": [
    "cls_model = xgboost.XGBClassifier(verbosity=0)"
   ]
  },
  {
   "cell_type": "code",
   "execution_count": 27,
   "metadata": {},
   "outputs": [
    {
     "data": {
      "application/vnd.jupyter.widget-view+json": {
       "model_id": "291e77663b574610aafde47abc901536",
       "version_major": 2,
       "version_minor": 0
      },
      "text/plain": [
       "Loading molecular descriptors: 0it [00:00, ?it/s]"
      ]
     },
     "metadata": {},
     "output_type": "display_data"
    },
    {
     "data": {
      "application/vnd.jupyter.widget-view+json": {
       "model_id": "d32743bc476845929788b61228e6d105",
       "version_major": 2,
       "version_minor": 0
      },
      "text/plain": [
       "  0%|                                                                                             | 0/1 [00:00…"
      ]
     },
     "metadata": {},
     "output_type": "display_data"
    }
   ],
   "source": [
    "cls_results, trained_cls_model = qsar(data=SLC6A4_data,\n",
    "                                      endpoint='pchembl_value_Mean',\n",
    "                                      quality='low',\n",
    "                                      source='any',\n",
    "                                      activity_types='any',\n",
    "                                      num_points=30,\n",
    "                                      delta_activity=2,\n",
    "                                      descriptors='mold2',\n",
    "                                      descriptor_path=PAPYRUS_DATA_FOLDER,\n",
    "                                      descriptor_chunksize=50000,\n",
    "                                      activity_threshold=6.5,\n",
    "                                      model=cls_model,\n",
    "                                      folds=5,\n",
    "                                      stratify=False,\n",
    "                                      split_by='Year',\n",
    "                                      split_year=2013,\n",
    "                                      test_set_size=0.30,\n",
    "                                      validation_set_size=0.30,\n",
    "                                      cluster_method=None,\n",
    "                                      custom_groups=None,\n",
    "                                      random_state=1234,\n",
    "                                      verbose=True)"
   ]
  },
  {
   "cell_type": "code",
   "execution_count": 28,
   "metadata": {},
   "outputs": [
    {
     "data": {
      "text/html": [
       "<div>\n",
       "<style scoped>\n",
       "    .dataframe tbody tr th:only-of-type {\n",
       "        vertical-align: middle;\n",
       "    }\n",
       "\n",
       "    .dataframe tbody tr th {\n",
       "        vertical-align: top;\n",
       "    }\n",
       "\n",
       "    .dataframe thead th {\n",
       "        text-align: right;\n",
       "    }\n",
       "</style>\n",
       "<table border=\"1\" class=\"dataframe\">\n",
       "  <thead>\n",
       "    <tr style=\"text-align: right;\">\n",
       "      <th></th>\n",
       "      <th></th>\n",
       "      <th>MCC</th>\n",
       "      <th>A:N</th>\n",
       "      <th>ACC</th>\n",
       "      <th>BACC</th>\n",
       "      <th>Sensitivity</th>\n",
       "      <th>Specificity</th>\n",
       "      <th>PPV</th>\n",
       "      <th>NPV</th>\n",
       "      <th>F1</th>\n",
       "      <th>AUC A</th>\n",
       "      <th>AUC N</th>\n",
       "    </tr>\n",
       "  </thead>\n",
       "  <tbody>\n",
       "    <tr>\n",
       "      <th rowspan=\"8\" valign=\"top\">P31645_WT</th>\n",
       "      <th>Fold 1</th>\n",
       "      <td>0.557173</td>\n",
       "      <td>245:96</td>\n",
       "      <td>0.824047</td>\n",
       "      <td>0.773023</td>\n",
       "      <td>0.656250</td>\n",
       "      <td>0.889796</td>\n",
       "      <td>0.700000</td>\n",
       "      <td>0.868526</td>\n",
       "      <td>0.677419</td>\n",
       "      <td>0.144813</td>\n",
       "      <td>0.855187</td>\n",
       "    </tr>\n",
       "    <tr>\n",
       "      <th>Fold 2</th>\n",
       "      <td>0.622859</td>\n",
       "      <td>245:96</td>\n",
       "      <td>0.853372</td>\n",
       "      <td>0.793431</td>\n",
       "      <td>0.656250</td>\n",
       "      <td>0.930612</td>\n",
       "      <td>0.787500</td>\n",
       "      <td>0.873563</td>\n",
       "      <td>0.715909</td>\n",
       "      <td>0.101828</td>\n",
       "      <td>0.898172</td>\n",
       "    </tr>\n",
       "    <tr>\n",
       "      <th>Fold 3</th>\n",
       "      <td>0.600187</td>\n",
       "      <td>244:97</td>\n",
       "      <td>0.841642</td>\n",
       "      <td>0.789970</td>\n",
       "      <td>0.670103</td>\n",
       "      <td>0.909836</td>\n",
       "      <td>0.747126</td>\n",
       "      <td>0.874016</td>\n",
       "      <td>0.706522</td>\n",
       "      <td>0.112261</td>\n",
       "      <td>0.887739</td>\n",
       "    </tr>\n",
       "    <tr>\n",
       "      <th>Fold 4</th>\n",
       "      <td>0.596339</td>\n",
       "      <td>244:97</td>\n",
       "      <td>0.844575</td>\n",
       "      <td>0.764070</td>\n",
       "      <td>0.577320</td>\n",
       "      <td>0.950820</td>\n",
       "      <td>0.823529</td>\n",
       "      <td>0.849817</td>\n",
       "      <td>0.678788</td>\n",
       "      <td>0.100642</td>\n",
       "      <td>0.899358</td>\n",
       "    </tr>\n",
       "    <tr>\n",
       "      <th>Fold 5</th>\n",
       "      <td>0.524965</td>\n",
       "      <td>241:99</td>\n",
       "      <td>0.811765</td>\n",
       "      <td>0.748187</td>\n",
       "      <td>0.595960</td>\n",
       "      <td>0.900415</td>\n",
       "      <td>0.710843</td>\n",
       "      <td>0.844358</td>\n",
       "      <td>0.648352</td>\n",
       "      <td>0.129259</td>\n",
       "      <td>0.870741</td>\n",
       "    </tr>\n",
       "    <tr>\n",
       "      <th>Mean</th>\n",
       "      <td>0.580304</td>\n",
       "      <td>-</td>\n",
       "      <td>0.835080</td>\n",
       "      <td>0.773736</td>\n",
       "      <td>0.631176</td>\n",
       "      <td>0.916296</td>\n",
       "      <td>0.753800</td>\n",
       "      <td>0.862056</td>\n",
       "      <td>0.685398</td>\n",
       "      <td>0.117761</td>\n",
       "      <td>0.882239</td>\n",
       "    </tr>\n",
       "    <tr>\n",
       "      <th>SD</th>\n",
       "      <td>0.031783</td>\n",
       "      <td>-</td>\n",
       "      <td>0.013743</td>\n",
       "      <td>0.015265</td>\n",
       "      <td>0.033945</td>\n",
       "      <td>0.019971</td>\n",
       "      <td>0.042391</td>\n",
       "      <td>0.011404</td>\n",
       "      <td>0.021821</td>\n",
       "      <td>0.015498</td>\n",
       "      <td>0.015498</td>\n",
       "    </tr>\n",
       "    <tr>\n",
       "      <th>Test set</th>\n",
       "      <td>0.235181</td>\n",
       "      <td>235:74</td>\n",
       "      <td>0.741100</td>\n",
       "      <td>0.607591</td>\n",
       "      <td>0.351351</td>\n",
       "      <td>0.863830</td>\n",
       "      <td>0.448276</td>\n",
       "      <td>0.808765</td>\n",
       "      <td>0.393939</td>\n",
       "      <td>0.301035</td>\n",
       "      <td>0.698965</td>\n",
       "    </tr>\n",
       "  </tbody>\n",
       "</table>\n",
       "</div>"
      ],
      "text/plain": [
       "                         MCC     A:N       ACC      BACC  Sensitivity  \\\n",
       "P31645_WT Fold 1    0.557173  245:96  0.824047  0.773023     0.656250   \n",
       "          Fold 2    0.622859  245:96  0.853372  0.793431     0.656250   \n",
       "          Fold 3    0.600187  244:97  0.841642  0.789970     0.670103   \n",
       "          Fold 4    0.596339  244:97  0.844575  0.764070     0.577320   \n",
       "          Fold 5    0.524965  241:99  0.811765  0.748187     0.595960   \n",
       "          Mean      0.580304       -  0.835080  0.773736     0.631176   \n",
       "          SD        0.031783       -  0.013743  0.015265     0.033945   \n",
       "          Test set  0.235181  235:74  0.741100  0.607591     0.351351   \n",
       "\n",
       "                    Specificity       PPV       NPV        F1     AUC A  \\\n",
       "P31645_WT Fold 1       0.889796  0.700000  0.868526  0.677419  0.144813   \n",
       "          Fold 2       0.930612  0.787500  0.873563  0.715909  0.101828   \n",
       "          Fold 3       0.909836  0.747126  0.874016  0.706522  0.112261   \n",
       "          Fold 4       0.950820  0.823529  0.849817  0.678788  0.100642   \n",
       "          Fold 5       0.900415  0.710843  0.844358  0.648352  0.129259   \n",
       "          Mean         0.916296  0.753800  0.862056  0.685398  0.117761   \n",
       "          SD           0.019971  0.042391  0.011404  0.021821  0.015498   \n",
       "          Test set     0.863830  0.448276  0.808765  0.393939  0.301035   \n",
       "\n",
       "                       AUC N  \n",
       "P31645_WT Fold 1    0.855187  \n",
       "          Fold 2    0.898172  \n",
       "          Fold 3    0.887739  \n",
       "          Fold 4    0.899358  \n",
       "          Fold 5    0.870741  \n",
       "          Mean      0.882239  \n",
       "          SD        0.015498  \n",
       "          Test set  0.698965  "
      ]
     },
     "execution_count": 28,
     "metadata": {},
     "output_type": "execute_result"
    }
   ],
   "source": [
    "cls_results"
   ]
  },
  {
   "cell_type": "markdown",
   "metadata": {},
   "source": [
    "Looking at the active to inactive ratio (i.e. A:N) one can clearly identify the reason of this low prediction performance over the test set.<br/>\n",
    "Oversampling and/or undersampling techniques could help the model better identify the boundary between actives and inactives in the mmecular descriptor space.<br/>\n",
    "However the use of such techniques is not the focus here."
   ]
  },
  {
   "cell_type": "markdown",
   "metadata": {
    "tags": []
   },
   "source": [
    "### PCM models"
   ]
  },
  {
   "cell_type": "code",
   "execution_count": 29,
   "metadata": {},
   "outputs": [],
   "source": [
    "from papyrus_scripts.modelling import pcm"
   ]
  },
  {
   "cell_type": "markdown",
   "metadata": {},
   "source": [
    "Let us see if including Rat data improves the quality of the model."
   ]
  },
  {
   "cell_type": "code",
   "execution_count": 30,
   "metadata": {},
   "outputs": [],
   "source": [
    "sample_data = read_papyrus(is3d=False, chunksize=1000000, source_path=PAPYRUS_DATA_FOLDER)\n",
    "filter1_it = keep_accession(sample_data, ['P31645', 'P31652'])\n",
    "filter2_it = keep_quality(data=filter1_it, min_quality='medium')\n",
    "filter3_it = keep_type(data=filter2_it, activity_types=['Ki', 'KD'])"
   ]
  },
  {
   "cell_type": "code",
   "execution_count": 31,
   "metadata": {},
   "outputs": [
    {
     "data": {
      "application/vnd.jupyter.widget-view+json": {
       "model_id": "bc9f4db2ff1e451db0fc4cec39762ef2",
       "version_major": 2,
       "version_minor": 0
      },
      "text/plain": [
       "  0%|          | 0/60 [00:00<?, ?it/s]"
      ]
     },
     "metadata": {},
     "output_type": "display_data"
    }
   ],
   "source": [
    "SLC6A4_human_rat = consume_chunks(filter3_it, total=60)"
   ]
  },
  {
   "cell_type": "markdown",
   "metadata": {},
   "source": [
    "Herein it is assumed that the Papyrus <a href=\"https://drive.google.com/drive/folders/1Lhw5G6gu_nLzHQoGmnl02uhFsmOgEZ5a?usp=sharing\">protein descriptors</a> were dowloaded and placed in the ***PAPYRUS_DATA_FOLDER*** folder."
   ]
  },
  {
   "cell_type": "code",
   "execution_count": 32,
   "metadata": {},
   "outputs": [],
   "source": [
    "pcm_reg_model = xgboost.XGBRegressor(verbosity=0)"
   ]
  },
  {
   "cell_type": "code",
   "execution_count": 33,
   "metadata": {},
   "outputs": [
    {
     "data": {
      "application/vnd.jupyter.widget-view+json": {
       "model_id": "9812eee04e6c4433bd03773312a95129",
       "version_major": 2,
       "version_minor": 0
      },
      "text/plain": [
       "Loading molecular descriptors: 0it [00:00, ?it/s]"
      ]
     },
     "metadata": {},
     "output_type": "display_data"
    },
    {
     "data": {
      "application/vnd.jupyter.widget-view+json": {
       "model_id": "19b85047013d415b9160c375ec624f96",
       "version_major": 2,
       "version_minor": 0
      },
      "text/plain": [
       "Loading protein descriptors: 0it [00:00, ?it/s]"
      ]
     },
     "metadata": {},
     "output_type": "display_data"
    },
    {
     "data": {
      "application/vnd.jupyter.widget-view+json": {
       "model_id": "ea211b1023064cd7a2c1eb4b48f33636",
       "version_major": 2,
       "version_minor": 0
      },
      "text/plain": [
       "Fitting model:   0%|          | 0/6 [00:00<?, ?it/s]"
      ]
     },
     "metadata": {},
     "output_type": "display_data"
    }
   ],
   "source": [
    "pcm_reg_results, pcm_reg_trained_model = pcm(data=SLC6A4_human_rat,\n",
    "                                             endpoint='pchembl_value_Mean',\n",
    "                                             quality='low',\n",
    "                                             source='any',\n",
    "                                             activity_types='any',\n",
    "                                             num_points=30,\n",
    "                                             delta_activity=2,\n",
    "                                             mol_descriptors='mold2',\n",
    "                                             mol_descriptor_path=PAPYRUS_DATA_FOLDER,\n",
    "                                             mol_descriptor_chunksize=50000,\n",
    "                                             prot_sequences_path=None,\n",
    "                                             prot_descriptors='unirep',\n",
    "                                             prot_descriptor_path=PAPYRUS_DATA_FOLDER,\n",
    "                                             prot_descriptor_chunksize=50000,\n",
    "                                             activity_threshold=6.5,\n",
    "                                             model=pcm_reg_model,\n",
    "                                             folds=5,\n",
    "                                             stratify=False,\n",
    "                                             split_by='Year',\n",
    "                                             split_year=2013,\n",
    "                                             test_set_size=0.30,\n",
    "                                             cluster_method=None,\n",
    "                                             custom_groups=None,\n",
    "                                             random_state=1234,\n",
    "                                             verbose=True)"
   ]
  },
  {
   "cell_type": "code",
   "execution_count": 34,
   "metadata": {},
   "outputs": [
    {
     "data": {
      "text/html": [
       "<div>\n",
       "<style scoped>\n",
       "    .dataframe tbody tr th:only-of-type {\n",
       "        vertical-align: middle;\n",
       "    }\n",
       "\n",
       "    .dataframe tbody tr th {\n",
       "        vertical-align: top;\n",
       "    }\n",
       "\n",
       "    .dataframe thead th {\n",
       "        text-align: right;\n",
       "    }\n",
       "</style>\n",
       "<table border=\"1\" class=\"dataframe\">\n",
       "  <thead>\n",
       "    <tr style=\"text-align: right;\">\n",
       "      <th></th>\n",
       "      <th>number</th>\n",
       "      <th>R2</th>\n",
       "      <th>MSE</th>\n",
       "      <th>RMSE</th>\n",
       "      <th>MSLE</th>\n",
       "      <th>RMSLE</th>\n",
       "      <th>MAE</th>\n",
       "      <th>Explained Variance</th>\n",
       "      <th>Max Error</th>\n",
       "      <th>Mean Poisson Distrib</th>\n",
       "      <th>Mean Gamma Distrib</th>\n",
       "      <th>Pearson r</th>\n",
       "      <th>Spearman r</th>\n",
       "      <th>Kendall tau</th>\n",
       "    </tr>\n",
       "  </thead>\n",
       "  <tbody>\n",
       "    <tr>\n",
       "      <th>Fold 1</th>\n",
       "      <td>759.000000</td>\n",
       "      <td>0.650572</td>\n",
       "      <td>0.539854</td>\n",
       "      <td>0.734747</td>\n",
       "      <td>0.008344</td>\n",
       "      <td>0.091346</td>\n",
       "      <td>0.555272</td>\n",
       "      <td>0.651308</td>\n",
       "      <td>2.891460</td>\n",
       "      <td>0.075833</td>\n",
       "      <td>0.010901</td>\n",
       "      <td>0.807642</td>\n",
       "      <td>0.817277</td>\n",
       "      <td>0.624606</td>\n",
       "    </tr>\n",
       "    <tr>\n",
       "      <th>Fold 2</th>\n",
       "      <td>759.000000</td>\n",
       "      <td>0.668604</td>\n",
       "      <td>0.507427</td>\n",
       "      <td>0.712339</td>\n",
       "      <td>0.007716</td>\n",
       "      <td>0.087843</td>\n",
       "      <td>0.528931</td>\n",
       "      <td>0.668621</td>\n",
       "      <td>3.406365</td>\n",
       "      <td>0.070570</td>\n",
       "      <td>0.010050</td>\n",
       "      <td>0.817940</td>\n",
       "      <td>0.824713</td>\n",
       "      <td>0.635008</td>\n",
       "    </tr>\n",
       "    <tr>\n",
       "      <th>Fold 3</th>\n",
       "      <td>758.000000</td>\n",
       "      <td>0.648581</td>\n",
       "      <td>0.524182</td>\n",
       "      <td>0.724004</td>\n",
       "      <td>0.008413</td>\n",
       "      <td>0.091722</td>\n",
       "      <td>0.532656</td>\n",
       "      <td>0.651415</td>\n",
       "      <td>2.667242</td>\n",
       "      <td>0.074473</td>\n",
       "      <td>0.010802</td>\n",
       "      <td>0.808409</td>\n",
       "      <td>0.809608</td>\n",
       "      <td>0.618169</td>\n",
       "    </tr>\n",
       "    <tr>\n",
       "      <th>Fold 4</th>\n",
       "      <td>758.000000</td>\n",
       "      <td>0.639182</td>\n",
       "      <td>0.521883</td>\n",
       "      <td>0.722415</td>\n",
       "      <td>0.007907</td>\n",
       "      <td>0.088919</td>\n",
       "      <td>0.545989</td>\n",
       "      <td>0.639193</td>\n",
       "      <td>2.960461</td>\n",
       "      <td>0.072609</td>\n",
       "      <td>0.010308</td>\n",
       "      <td>0.799814</td>\n",
       "      <td>0.802759</td>\n",
       "      <td>0.610677</td>\n",
       "    </tr>\n",
       "    <tr>\n",
       "      <th>Fold 5</th>\n",
       "      <td>758.000000</td>\n",
       "      <td>0.616353</td>\n",
       "      <td>0.578168</td>\n",
       "      <td>0.760374</td>\n",
       "      <td>0.008796</td>\n",
       "      <td>0.093790</td>\n",
       "      <td>0.571366</td>\n",
       "      <td>0.616505</td>\n",
       "      <td>4.112196</td>\n",
       "      <td>0.080409</td>\n",
       "      <td>0.011443</td>\n",
       "      <td>0.787766</td>\n",
       "      <td>0.796161</td>\n",
       "      <td>0.606750</td>\n",
       "    </tr>\n",
       "    <tr>\n",
       "      <th>Mean</th>\n",
       "      <td>758.400000</td>\n",
       "      <td>0.644658</td>\n",
       "      <td>0.534303</td>\n",
       "      <td>0.730776</td>\n",
       "      <td>0.008235</td>\n",
       "      <td>0.090724</td>\n",
       "      <td>0.546843</td>\n",
       "      <td>0.645408</td>\n",
       "      <td>3.207545</td>\n",
       "      <td>0.074779</td>\n",
       "      <td>0.010701</td>\n",
       "      <td>0.804314</td>\n",
       "      <td>0.810103</td>\n",
       "      <td>0.619042</td>\n",
       "    </tr>\n",
       "    <tr>\n",
       "      <th>SD</th>\n",
       "      <td>0.447214</td>\n",
       "      <td>0.015572</td>\n",
       "      <td>0.022113</td>\n",
       "      <td>0.014986</td>\n",
       "      <td>0.000350</td>\n",
       "      <td>0.001929</td>\n",
       "      <td>0.014114</td>\n",
       "      <td>0.015725</td>\n",
       "      <td>0.467406</td>\n",
       "      <td>0.003037</td>\n",
       "      <td>0.000443</td>\n",
       "      <td>0.009198</td>\n",
       "      <td>0.009251</td>\n",
       "      <td>0.009199</td>\n",
       "    </tr>\n",
       "    <tr>\n",
       "      <th>Test set</th>\n",
       "      <td>628.000000</td>\n",
       "      <td>0.288017</td>\n",
       "      <td>0.963438</td>\n",
       "      <td>0.981549</td>\n",
       "      <td>0.016309</td>\n",
       "      <td>0.127705</td>\n",
       "      <td>0.774795</td>\n",
       "      <td>0.293285</td>\n",
       "      <td>3.042561</td>\n",
       "      <td>0.141789</td>\n",
       "      <td>0.021233</td>\n",
       "      <td>0.559699</td>\n",
       "      <td>0.558549</td>\n",
       "      <td>0.391705</td>\n",
       "    </tr>\n",
       "  </tbody>\n",
       "</table>\n",
       "</div>"
      ],
      "text/plain": [
       "              number        R2       MSE      RMSE      MSLE     RMSLE  \\\n",
       "Fold 1    759.000000  0.650572  0.539854  0.734747  0.008344  0.091346   \n",
       "Fold 2    759.000000  0.668604  0.507427  0.712339  0.007716  0.087843   \n",
       "Fold 3    758.000000  0.648581  0.524182  0.724004  0.008413  0.091722   \n",
       "Fold 4    758.000000  0.639182  0.521883  0.722415  0.007907  0.088919   \n",
       "Fold 5    758.000000  0.616353  0.578168  0.760374  0.008796  0.093790   \n",
       "Mean      758.400000  0.644658  0.534303  0.730776  0.008235  0.090724   \n",
       "SD          0.447214  0.015572  0.022113  0.014986  0.000350  0.001929   \n",
       "Test set  628.000000  0.288017  0.963438  0.981549  0.016309  0.127705   \n",
       "\n",
       "               MAE  Explained Variance  Max Error  Mean Poisson Distrib  \\\n",
       "Fold 1    0.555272            0.651308   2.891460              0.075833   \n",
       "Fold 2    0.528931            0.668621   3.406365              0.070570   \n",
       "Fold 3    0.532656            0.651415   2.667242              0.074473   \n",
       "Fold 4    0.545989            0.639193   2.960461              0.072609   \n",
       "Fold 5    0.571366            0.616505   4.112196              0.080409   \n",
       "Mean      0.546843            0.645408   3.207545              0.074779   \n",
       "SD        0.014114            0.015725   0.467406              0.003037   \n",
       "Test set  0.774795            0.293285   3.042561              0.141789   \n",
       "\n",
       "          Mean Gamma Distrib  Pearson r  Spearman r  Kendall tau  \n",
       "Fold 1              0.010901   0.807642    0.817277     0.624606  \n",
       "Fold 2              0.010050   0.817940    0.824713     0.635008  \n",
       "Fold 3              0.010802   0.808409    0.809608     0.618169  \n",
       "Fold 4              0.010308   0.799814    0.802759     0.610677  \n",
       "Fold 5              0.011443   0.787766    0.796161     0.606750  \n",
       "Mean                0.010701   0.804314    0.810103     0.619042  \n",
       "SD                  0.000443   0.009198    0.009251     0.009199  \n",
       "Test set            0.021233   0.559699    0.558549     0.391705  "
      ]
     },
     "execution_count": 34,
     "metadata": {},
     "output_type": "execute_result"
    }
   ],
   "source": [
    "pcm_reg_results"
   ]
  },
  {
   "cell_type": "markdown",
   "metadata": {},
   "source": [
    "As with QSAR models, training a classifier is a matter of changing the underlying model to be used."
   ]
  },
  {
   "cell_type": "code",
   "execution_count": 35,
   "metadata": {},
   "outputs": [],
   "source": [
    "pcm_cls_model = xgboost.XGBClassifier(verbosity=0)"
   ]
  },
  {
   "cell_type": "code",
   "execution_count": 36,
   "metadata": {},
   "outputs": [
    {
     "data": {
      "application/vnd.jupyter.widget-view+json": {
       "model_id": "97248481518a4930aac53c34d0ad4ebc",
       "version_major": 2,
       "version_minor": 0
      },
      "text/plain": [
       "Loading molecular descriptors: 0it [00:00, ?it/s]"
      ]
     },
     "metadata": {},
     "output_type": "display_data"
    },
    {
     "data": {
      "application/vnd.jupyter.widget-view+json": {
       "model_id": "9cf71ffcae6f4635b9d7fb7332fc660d",
       "version_major": 2,
       "version_minor": 0
      },
      "text/plain": [
       "Loading protein descriptors: 0it [00:00, ?it/s]"
      ]
     },
     "metadata": {},
     "output_type": "display_data"
    },
    {
     "data": {
      "application/vnd.jupyter.widget-view+json": {
       "model_id": "68fa77a9c22c4291bd5ec57cecc858b9",
       "version_major": 2,
       "version_minor": 0
      },
      "text/plain": [
       "Fitting model:   0%|          | 0/6 [00:00<?, ?it/s]"
      ]
     },
     "metadata": {},
     "output_type": "display_data"
    }
   ],
   "source": [
    "pcm_cls_results, pcm_cls_trained_model = pcm(data=SLC6A4_human_rat,\n",
    "                                             endpoint='pchembl_value_Mean',\n",
    "                                             quality='low',\n",
    "                                             source='any',\n",
    "                                             activity_types='any',\n",
    "                                             num_points=30,\n",
    "                                             delta_activity=2,\n",
    "                                             mol_descriptors='mold2',\n",
    "                                             mol_descriptor_path=PAPYRUS_DATA_FOLDER,\n",
    "                                             mol_descriptor_chunksize=50000,\n",
    "                                             prot_sequences_path=None,\n",
    "                                             prot_descriptors='unirep',\n",
    "                                             prot_descriptor_path=PAPYRUS_DATA_FOLDER,\n",
    "                                             prot_descriptor_chunksize=50000,\n",
    "                                             activity_threshold=6.5,\n",
    "                                             model=pcm_cls_model,\n",
    "                                             folds=5,\n",
    "                                             stratify=False,\n",
    "                                             split_by='Year',\n",
    "                                             split_year=2013,\n",
    "                                             test_set_size=0.30,\n",
    "                                             cluster_method=None,\n",
    "                                             custom_groups=None,\n",
    "                                             random_state=1234,\n",
    "                                             verbose=True)"
   ]
  },
  {
   "cell_type": "code",
   "execution_count": 37,
   "metadata": {},
   "outputs": [
    {
     "data": {
      "text/html": [
       "<div>\n",
       "<style scoped>\n",
       "    .dataframe tbody tr th:only-of-type {\n",
       "        vertical-align: middle;\n",
       "    }\n",
       "\n",
       "    .dataframe tbody tr th {\n",
       "        vertical-align: top;\n",
       "    }\n",
       "\n",
       "    .dataframe thead th {\n",
       "        text-align: right;\n",
       "    }\n",
       "</style>\n",
       "<table border=\"1\" class=\"dataframe\">\n",
       "  <thead>\n",
       "    <tr style=\"text-align: right;\">\n",
       "      <th></th>\n",
       "      <th>MCC</th>\n",
       "      <th>A:N</th>\n",
       "      <th>ACC</th>\n",
       "      <th>BACC</th>\n",
       "      <th>Sensitivity</th>\n",
       "      <th>Specificity</th>\n",
       "      <th>PPV</th>\n",
       "      <th>NPV</th>\n",
       "      <th>F1</th>\n",
       "      <th>AUC A</th>\n",
       "      <th>AUC N</th>\n",
       "    </tr>\n",
       "  </thead>\n",
       "  <tbody>\n",
       "    <tr>\n",
       "      <th>Fold 1</th>\n",
       "      <td>0.645298</td>\n",
       "      <td>523:236</td>\n",
       "      <td>0.852437</td>\n",
       "      <td>0.808054</td>\n",
       "      <td>0.690678</td>\n",
       "      <td>0.925430</td>\n",
       "      <td>0.806931</td>\n",
       "      <td>0.868941</td>\n",
       "      <td>0.744292</td>\n",
       "      <td>0.084867</td>\n",
       "      <td>0.915133</td>\n",
       "    </tr>\n",
       "    <tr>\n",
       "      <th>Fold 2</th>\n",
       "      <td>0.690676</td>\n",
       "      <td>556:203</td>\n",
       "      <td>0.881423</td>\n",
       "      <td>0.836185</td>\n",
       "      <td>0.738916</td>\n",
       "      <td>0.933453</td>\n",
       "      <td>0.802139</td>\n",
       "      <td>0.907343</td>\n",
       "      <td>0.769231</td>\n",
       "      <td>0.069032</td>\n",
       "      <td>0.930964</td>\n",
       "    </tr>\n",
       "    <tr>\n",
       "      <th>Fold 3</th>\n",
       "      <td>0.616368</td>\n",
       "      <td>531:227</td>\n",
       "      <td>0.843008</td>\n",
       "      <td>0.798415</td>\n",
       "      <td>0.687225</td>\n",
       "      <td>0.909605</td>\n",
       "      <td>0.764706</td>\n",
       "      <td>0.871841</td>\n",
       "      <td>0.723898</td>\n",
       "      <td>0.091930</td>\n",
       "      <td>0.908070</td>\n",
       "    </tr>\n",
       "    <tr>\n",
       "      <th>Fold 4</th>\n",
       "      <td>0.670853</td>\n",
       "      <td>546:212</td>\n",
       "      <td>0.872032</td>\n",
       "      <td>0.817394</td>\n",
       "      <td>0.693396</td>\n",
       "      <td>0.941392</td>\n",
       "      <td>0.821229</td>\n",
       "      <td>0.887737</td>\n",
       "      <td>0.751918</td>\n",
       "      <td>0.082063</td>\n",
       "      <td>0.917937</td>\n",
       "    </tr>\n",
       "    <tr>\n",
       "      <th>Fold 5</th>\n",
       "      <td>0.673868</td>\n",
       "      <td>539:219</td>\n",
       "      <td>0.869393</td>\n",
       "      <td>0.825480</td>\n",
       "      <td>0.721461</td>\n",
       "      <td>0.929499</td>\n",
       "      <td>0.806122</td>\n",
       "      <td>0.891459</td>\n",
       "      <td>0.761446</td>\n",
       "      <td>0.078244</td>\n",
       "      <td>0.921756</td>\n",
       "    </tr>\n",
       "    <tr>\n",
       "      <th>Mean</th>\n",
       "      <td>0.659413</td>\n",
       "      <td>-</td>\n",
       "      <td>0.863659</td>\n",
       "      <td>0.817106</td>\n",
       "      <td>0.706335</td>\n",
       "      <td>0.927876</td>\n",
       "      <td>0.800225</td>\n",
       "      <td>0.885464</td>\n",
       "      <td>0.750157</td>\n",
       "      <td>0.081227</td>\n",
       "      <td>0.918772</td>\n",
       "    </tr>\n",
       "    <tr>\n",
       "      <th>SD</th>\n",
       "      <td>0.023697</td>\n",
       "      <td>-</td>\n",
       "      <td>0.012721</td>\n",
       "      <td>0.012011</td>\n",
       "      <td>0.018566</td>\n",
       "      <td>0.009629</td>\n",
       "      <td>0.017254</td>\n",
       "      <td>0.012770</td>\n",
       "      <td>0.014249</td>\n",
       "      <td>0.006906</td>\n",
       "      <td>0.006904</td>\n",
       "    </tr>\n",
       "    <tr>\n",
       "      <th>Test set</th>\n",
       "      <td>0.439667</td>\n",
       "      <td>390:238</td>\n",
       "      <td>0.745223</td>\n",
       "      <td>0.698255</td>\n",
       "      <td>0.504202</td>\n",
       "      <td>0.892308</td>\n",
       "      <td>0.740741</td>\n",
       "      <td>0.746781</td>\n",
       "      <td>0.600000</td>\n",
       "      <td>0.276287</td>\n",
       "      <td>0.723713</td>\n",
       "    </tr>\n",
       "  </tbody>\n",
       "</table>\n",
       "</div>"
      ],
      "text/plain": [
       "               MCC      A:N       ACC      BACC  Sensitivity  Specificity  \\\n",
       "Fold 1    0.645298  523:236  0.852437  0.808054     0.690678     0.925430   \n",
       "Fold 2    0.690676  556:203  0.881423  0.836185     0.738916     0.933453   \n",
       "Fold 3    0.616368  531:227  0.843008  0.798415     0.687225     0.909605   \n",
       "Fold 4    0.670853  546:212  0.872032  0.817394     0.693396     0.941392   \n",
       "Fold 5    0.673868  539:219  0.869393  0.825480     0.721461     0.929499   \n",
       "Mean      0.659413        -  0.863659  0.817106     0.706335     0.927876   \n",
       "SD        0.023697        -  0.012721  0.012011     0.018566     0.009629   \n",
       "Test set  0.439667  390:238  0.745223  0.698255     0.504202     0.892308   \n",
       "\n",
       "               PPV       NPV        F1     AUC A     AUC N  \n",
       "Fold 1    0.806931  0.868941  0.744292  0.084867  0.915133  \n",
       "Fold 2    0.802139  0.907343  0.769231  0.069032  0.930964  \n",
       "Fold 3    0.764706  0.871841  0.723898  0.091930  0.908070  \n",
       "Fold 4    0.821229  0.887737  0.751918  0.082063  0.917937  \n",
       "Fold 5    0.806122  0.891459  0.761446  0.078244  0.921756  \n",
       "Mean      0.800225  0.885464  0.750157  0.081227  0.918772  \n",
       "SD        0.017254  0.012770  0.014249  0.006906  0.006904  \n",
       "Test set  0.740741  0.746781  0.600000  0.276287  0.723713  "
      ]
     },
     "execution_count": 37,
     "metadata": {},
     "output_type": "execute_result"
    }
   ],
   "source": [
    "pcm_cls_results"
   ]
  },
  {
   "cell_type": "code",
   "execution_count": null,
   "metadata": {},
   "outputs": [],
   "source": []
  }
 ],
 "metadata": {
  "kernelspec": {
   "display_name": "Python 3",
   "language": "python",
   "name": "python3"
  },
  "language_info": {
   "codemirror_mode": {
    "name": "ipython",
    "version": 3
   },
   "file_extension": ".py",
   "mimetype": "text/x-python",
   "name": "python",
   "nbconvert_exporter": "python",
   "pygments_lexer": "ipython3",
   "version": "3.6.13"
  }
 },
 "nbformat": 4,
 "nbformat_minor": 4
}
